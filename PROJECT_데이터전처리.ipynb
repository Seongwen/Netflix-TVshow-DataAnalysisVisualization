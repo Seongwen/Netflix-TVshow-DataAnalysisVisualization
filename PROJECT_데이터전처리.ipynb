{
 "cells": [
  {
   "cell_type": "markdown",
   "id": "7342dd96",
   "metadata": {},
   "source": [
    "# data preprocessing (데이터 전처리)"
   ]
  },
  {
   "cell_type": "code",
   "execution_count": 2,
   "id": "65d85648",
   "metadata": {},
   "outputs": [],
   "source": [
    "from selenium import webdriver\n",
    "from bs4 import BeautifulSoup\n",
    "import urllib.request\n",
    "import webbrowser\n",
    "import pandas as pd\n",
    "import requests\n",
    "from html_table_parser import parser_functions as parser\n",
    "import time\n",
    "\n",
    "\n",
    "##### 데이타 데이스 #####\n",
    "import pymysql\n",
    "import mysql.connector"
   ]
  },
  {
   "cell_type": "markdown",
   "id": "ba447693",
   "metadata": {},
   "source": [
    "# Score_Table ( list, dataframe )"
   ]
  },
  {
   "cell_type": "code",
   "execution_count": 2,
   "id": "c8f68c7b",
   "metadata": {},
   "outputs": [],
   "source": [
    "########## SCORE table 내용 스크랩 ###########\n",
    "##### 순위 페이지 랭킹(스코어)테이블 #####\n",
    "res = requests.get('https://flixpatrol.com/top10/netflix/world/2021/full/#netflix-2')\n",
    "soup = BeautifulSoup(res.content, 'xml')\n",
    " \n",
    "netfl2 = soup.find('div',{'id':'netflix-2'})\n",
    "table1 = netfl2.find('tbody',{'class':'tabular-nums'})\n",
    "html_table_21_sub = parser.make2d(table1)\n",
    "#html_table1\n",
    "\n",
    "##### 2020년 ####\n",
    "res_20 = requests.get('https://flixpatrol.com/top10/netflix/world/2020/full/#netflix-2')\n",
    "soup_20 = BeautifulSoup(res_20.content, 'xml')\n",
    "\n",
    "netfl2_20 = soup_20.find('div',{'id':'netflix-2'})\n",
    "table1_20 = netfl2_20.find('tbody',{'class':'tabular-nums'})\n",
    "html_table_20_sub = parser.make2d(table1_20)"
   ]
  },
  {
   "cell_type": "code",
   "execution_count": 3,
   "id": "8429b683",
   "metadata": {},
   "outputs": [],
   "source": [
    "##### replace()이용하여 문자열의 쉼표 (,) 제거하자 #####\n",
    "html_table_21 = []\n",
    "html_table_20 = []\n",
    "\n",
    "for i in range(len(html_table_21_sub)):\n",
    "    temp_list=[]\n",
    "    for j in range(len(html_table_21_sub[i])):\n",
    "        temp21 = html_table_21_sub[i][j].replace(\",\",\"\")\n",
    "        if temp21 != '':\n",
    "            temp_list.append(temp21)\n",
    "        else :\n",
    "            temp_list.append('0')\n",
    "        #temp_list.append(temp21)\n",
    "    html_table_21.append(temp_list)\n",
    "\n",
    "    \n",
    "for i in range(len(html_table_20_sub)):\n",
    "    temp_list=[]\n",
    "    for j in range(len(html_table_20_sub[i])):\n",
    "        temp20 = html_table_20_sub[i][j].replace(\",\",\"\")\n",
    "        if temp20 != '':\n",
    "            temp_list.append(temp20)\n",
    "        else :\n",
    "            temp_list.append('0')\n",
    "    html_table_20.append(temp_list)\n"
   ]
  },
  {
   "cell_type": "code",
   "execution_count": 10,
   "id": "b09144cd",
   "metadata": {},
   "outputs": [],
   "source": [
    "##### 데이터 프레임으로 만들기#####\n",
    "\n",
    "#### 2021 데이터프레임 ####\n",
    "df_main_21 = pd.DataFrame(html_table_21)\n",
    "df_main_21 = df_main_21.drop(columns=[0,1,3,4])\n",
    "df_main_21 = df_main_21.drop_duplicates(ignore_index=True)\n",
    "df_main_21.columns=[\"title\",\"num_c\",\"avg_c\",\"days\",\"avg_day\",\"total_score\"]\n",
    "df_main_21[\"year\"]=\"2021\"\n",
    "df_main_21 = df_main_21[df_main_21['total_score']!=\"0\"]\n",
    "\n",
    "#### 2020 데이터프레임####\n",
    "df_main_20 = pd.DataFrame(html_table_20)\n",
    "df_main_20 = df_main_20.drop(columns=[0,1,3,4])\n",
    "df_main_20 = df_main_20.drop_duplicates(ignore_index=True)\n",
    "df_main_20.columns=[\"title\",\"num_c\",\"avg_c\",\"days\",\"avg_day\",\"total_score\"]\n",
    "df_main_20[\"year\"]=\"2020\"\n",
    "df_main_20 = df_main_20[df_main_20['total_score']!=\"0\"]\n"
   ]
  },
  {
   "cell_type": "markdown",
   "id": "8ad056cf",
   "metadata": {},
   "source": [
    "# Detail_Table ( list, dataframe )"
   ]
  },
  {
   "cell_type": "code",
   "execution_count": 5,
   "id": "b5120bc7",
   "metadata": {},
   "outputs": [],
   "source": [
    "############# Detail table #############\n",
    "##### 각 상세페이지의 url 가져오기 #####\n",
    "\n",
    "html = requests.get(\"https://flixpatrol.com/top10/netflix/world/2021/full/#netflix-2\").text\n",
    "soup = BeautifulSoup(html,\"lxml\")\n",
    "\n",
    "html_2020 = requests.get(\"https://flixpatrol.com/top10/netflix/world/2020/full/#netflix-2\").text\n",
    "soup_2020 = BeautifulSoup(html_2020,\"lxml\")\n",
    "\n",
    "#### 주소받아올 리스트 ####\n",
    "url=[] \n",
    "\n",
    "##### 2021 년도 데이터  url에 추가 #####\n",
    "for href in soup.find(\"div\",{\"id\":\"netflix-2\"}).find_all(\"td\"):\n",
    "    try:\n",
    "        href.find(\"a\")[\"href\"]\n",
    "        url.append(\"https://flixpatrol.com\" + href.find(\"a\")[\"href\"])\n",
    "    except:\n",
    "        pass\n",
    "    \n",
    "##### 2020 년도 데이터  url에 추가 #####\n",
    "for href in soup_2020.find(\"div\",{\"id\":\"netflix-2\"}).find_all(\"td\"):\n",
    "    try:\n",
    "        href.find(\"a\")[\"href\"]\n",
    "        url.append(\"https://flixpatrol.com\" + href.find(\"a\")[\"href\"])\n",
    "    except:\n",
    "        pass\n",
    "\n",
    "m_list = url\n",
    "url_re = []\n",
    "for i in m_list:\n",
    "    if i not in url_re:\n",
    "        url_re.append(i)\n",
    "\n",
    "#print(len(new_url))"
   ]
  },
  {
   "cell_type": "code",
   "execution_count": 45,
   "id": "28b02639",
   "metadata": {},
   "outputs": [
    {
     "name": "stdout",
     "output_type": "stream",
     "text": [
      "0 1 2 3 4 5 6 7 8 9 10 11 12 13 14 15 16 17 18 19 20 21 22 23 24 25 26 27 28 29 30 31 32 33 34 35 36 37 38 39 40 41 42 43 44 45 46 47 48 49 50 51 52 53 54 55 56 57 58 59 60 61 62 63 64 65 66 67 68 69 70 71 72 73 74 75 76 77 78 79 80 81 82 83 84 85 86 87 88 89 90 91 92 93 94 95 96 97 98 99 100 101 102 103 104 105 106 107 108 109 110 111 112 113 114 115 116 117 118 119 120 121 122 123 124 125 126 127 128 129 130 131 132 133 134 135 136 137 138 139 140 141 142 143 144 145 146 147 148 149 150 151 152 153 154 155 156 157 158 159 160 161 162 163 164 165 166 167 168 169 170 171 172 173 174 175 176 177 178 179 180 181 182 183 184 185 186 187 188 189 190 191 192 193 194 195 196 197 198 199 200 201 202 203 204 205 206 207 208 209 210 211 끝! "
     ]
    }
   ],
   "source": [
    "###################### Detail table 내용 스크랩 ##########################\n",
    "##### 상세페이지의 정보 가져오기 (제목 분류 국가 제작사 장르 키워드) #####\n",
    "##### //////////       ※주의※ 오 래 걸 림 ! ! ! ! !!  /////////////#####\n",
    "\n",
    "list_all = [] \n",
    "\n",
    "for i in range(len(url_re)):\n",
    "    html_2 = urllib.request.urlopen(url_re[i])\n",
    "    soup_2 = BeautifulSoup(html_2,\"html.parser\")\n",
    "    info_title = soup_2.find(\"h1\",{\"class\":\"mb-3\"})\n",
    "    info_d= soup_2.find(\"div\",{\"class\":\"flex flex-wrap text-sm leading-6 text-gray-500\"})\n",
    "    spans = info_d.find_all(\"span\")\n",
    "\n",
    "    ready1=[]\n",
    "\n",
    "    \n",
    "    #####리스트에 제목넣음#####\n",
    "    ready1.append(info_title.get_text())\n",
    "    \n",
    "    ##### 1초 ? 쉬어가기 zzzZ #####\n",
    "    time.sleep(1)    \n",
    "\n",
    "    #####리스트 1행 씩 생성#####\n",
    "    for t in range(0,len(spans)):\n",
    "        excp = spans[t].get_text()\n",
    "        if excp != \"|\" and excp != \"\\n\\n\" and (\"/\" in excp)==False:\n",
    "            ready1.append(spans[t].get_text())   \n",
    "\n",
    "    #####문자열 replace, \\n 제거 #####\n",
    "    ready_2 = []\n",
    "    for j in ready1:\n",
    "        temp = j.replace(\"\\n\",\"\")\n",
    "        ready_2.append(temp)\n",
    "\n",
    "        \n",
    "    ##### 키워드,제작사 없는곳 빈부분 none 채워넣기 #####\n",
    "    if (len(ready_2)==5 and ready_2[3] == ' Netflix'):\n",
    "        ready_2.append(None)\n",
    "        \n",
    "    #####밀린 (제작사)빈칸 넣어보기#####\n",
    "    #총길이len 6\n",
    "    #index 3 ->제작사 \n",
    "    if (len(ready_2)<=5):\n",
    "        ready_2.insert(3,None)\n",
    "\n",
    "    ##### 키워드 빈부분 none 채워넣기 #####\n",
    "    if (len(ready_2)==5):\n",
    "        ready_2.append(None)        \n",
    "        \n",
    "    ##### 제작사 앞의 빈칸제거 #####       \n",
    "    if ready_2[3] != None:\n",
    "        ready_2[3] = ready_2[3].strip()\n",
    "\n",
    "        \n",
    "    ##### 인덱스0에 기본키 넣기 #####   \n",
    "    ready_2.insert(0,i+1)\n",
    "    \n",
    "    #####생성된 행 최종 리스트에 넣음 #####            \n",
    "    list_all.append(ready_2)\n",
    "    \n",
    "    ##### 막연한 기다림을 위하여... #####\n",
    "    print(i,end=\" \")\n",
    "\n",
    "print(\"끝!\",end=\" \")\n",
    "##### 데이터 프레임 #####\n",
    "df_netp = pd.DataFrame(list_all)"
   ]
  },
  {
   "cell_type": "code",
   "execution_count": null,
   "id": "c82fc826",
   "metadata": {},
   "outputs": [],
   "source": [
    "##### df를 엑셀로 내보내기 #####\n",
    "\n",
    "#df_netp.to_csv(\"detail_table.csv\")\n",
    "\n",
    "#df_main_21.to_csv(\"score_table_2021.csv\")\n",
    "#df_main_20.to_csv(\"score_table_2020.csv\")"
   ]
  },
  {
   "cell_type": "markdown",
   "id": "7fe8f181",
   "metadata": {},
   "source": [
    "# 데이터베이스"
   ]
  },
  {
   "cell_type": "code",
   "execution_count": null,
   "id": "63e0ce42",
   "metadata": {},
   "outputs": [],
   "source": [
    "##### CREATE DROP #####\n",
    "\n",
    "## 크리에이트 테이블 ##\n",
    "#cursor.execute (\"create table score_table(id_sc integer NOT NULL AUTO_INCREMENT PRIMARY KEY,title varchar(150),num_c integer,avg_c integer,days integer,avg_day integer,total_score integer,year varchar(5));\")    \n",
    "#cursor.execute(\"create table detail_table(  id_de integer NOT NULL PRIMARY KEY,  title varchar(150),  media varchar(20),  nation varchar(20),  prod varchar(20),  genre varchar(40),  keyword varchar(30));\")\n",
    "\n",
    "## 드랍 테이블 ##\n",
    "#cursor.execute (\"drop table score_table;\")\n",
    "#cursor.execute(\"drop table detail_table;\")\n",
    "\n"
   ]
  },
  {
   "cell_type": "markdown",
   "id": "8350fe29",
   "metadata": {},
   "source": [
    "### DB - score_table"
   ]
  },
  {
   "cell_type": "code",
   "execution_count": 11,
   "id": "f878372a",
   "metadata": {},
   "outputs": [],
   "source": [
    "###########################################################\n",
    "##### \"score_table\"에 2020,2021년도 스코어 자료 넣기 #####\n",
    "\n",
    "Maria_db = pymysql.connect(\n",
    "    user='root', \n",
    "    passwd='1234', \n",
    "    host='127.0.0.1', \n",
    "    db='project', \n",
    "    charset='utf8'\n",
    ")\n",
    "\n",
    "cursor = Maria_db.cursor(pymysql.cursors.DictCursor)\n",
    "\n",
    "### \"드랍\" / \"크리에이트\" ※주석처리 주의※ ###\n",
    "#cursor.execute (\"drop table score_table;\")\n",
    "#cursor.execute (\"create table score_table(id_sc integer NOT NULL AUTO_INCREMENT PRIMARY KEY,title varchar(150),num_c integer,avg_c integer,days integer,avg_day integer,total_score integer,year varchar(5));\")    \n",
    "\n",
    "\n",
    "# 컬럼이름지정 :  df의 컬럼이름도 데이터베이스와 같아야 함\n",
    "cols = \"`,`\".join([str(i) for i in df_main_21.columns.tolist()]) \n",
    "\n",
    "\n",
    "# 행 한줄씩 생성\n",
    "for i,row in df_main_20.iterrows():\n",
    "    sql = \"INSERT INTO `score_table` (`\" +cols + \"`) VALUES (\" + \"%s,\"*(len(row)-1) + \"%s)\"\n",
    "    cursor.execute(sql, tuple(row))\n",
    "    \n",
    "# 행 한줄씩 생성\n",
    "for i,row in df_main_21.iterrows():\n",
    "    sql = \"INSERT INTO `score_table` (`\" +cols + \"`) VALUES (\" + \"%s,\"*(len(row)-1) + \"%s)\"\n",
    "    cursor.execute(sql, tuple(row))    \n",
    "    \n",
    "Maria_db.commit()\n",
    "Maria_db.close()\n"
   ]
  },
  {
   "cell_type": "code",
   "execution_count": 46,
   "id": "1af645aa",
   "metadata": {},
   "outputs": [
    {
     "name": "stdout",
     "output_type": "stream",
     "text": [
      "7 7 7 7 7 7 7 7 7 7 7 7 7 7 7 7 7 7 7 7 7 7 7 7 7 7 7 7 7 7 7 7 7 7 7 7 7 7 7 7 7 7 7 7 7 7 7 7 7 7 7 7 7 7 7 7 7 7 7 7 7 7 7 7 7 7 7 7 7 7 7 7 7 7 7 7 7 7 7 7 7 7 7 7 7 7 7 7 7 7 7 7 7 7 7 7 7 7 7 7 7 7 7 7 7 7 7 7 7 7 7 7 7 7 7 7 7 7 7 7 7 7 7 7 7 7 7 7 7 7 7 7 7 7 7 7 7 7 7 7 7 7 7 7 7 7 7 7 7 7 7 7 7 7 7 7 7 7 7 7 7 7 7 7 7 7 7 7 7 7 7 7 7 7 7 7 7 7 7 7 7 7 7 7 7 7 7 7 7 7 7 7 7 7 7 7 7 7 7 7 7 7 7 7 7 7 7 7 7 7 7 7 "
     ]
    }
   ],
   "source": [
    "##### 결측치 채워졌는지 확인 #####\n",
    "for i in range(len(list_all)):\n",
    "    print(len(list_all[i]), end = \" \")\n",
    "    if len(list_all[i]) !=7:\n",
    "        print(\"<\",i,\">\")"
   ]
  },
  {
   "cell_type": "markdown",
   "id": "e75dc0a3",
   "metadata": {},
   "source": [
    "### DB - detail_table"
   ]
  },
  {
   "cell_type": "code",
   "execution_count": 49,
   "id": "05c563a2",
   "metadata": {},
   "outputs": [],
   "source": [
    "###########################################################\n",
    "##### \"detail_table\"에 2020,2021년도 상세 자료 넣기 #####\n",
    "\n",
    "Maria_db = pymysql.connect(\n",
    "    user='root', \n",
    "    passwd='1234', \n",
    "    host='127.0.0.1', \n",
    "    db='project', \n",
    "    charset='utf8'\n",
    ")\n",
    "cursor = Maria_db.cursor(pymysql.cursors.DictCursor)\n",
    "\n",
    "### \"드랍\" / \"크리에이트\" ※주석처리 주의※ ###\n",
    "#cursor.execute(\"drop table detail_table;\")\n",
    "#cursor.execute(\"create table detail_table(  id_de integer NOT NULL PRIMARY KEY,  title varchar(150),  media varchar(20),  nation varchar(20),  prod varchar(20),  genre varchar(40),  keyword varchar(30));\")\n",
    "\n",
    "query = \"insert into detail_table values(%s,%s,%s,%s,%s,%s,%s);\"\n",
    "for i in range(len(list_all)):\n",
    "    cursor.execute(query, (list_all[i][0],\n",
    "                           list_all[i][1],list_all[i][2],\n",
    "                           list_all[i][3],list_all[i][4],\n",
    "                           list_all[i][5],list_all[i][6]))\n",
    "\n",
    "Maria_db.commit()\n",
    "Maria_db.close()\n"
   ]
  },
  {
   "cell_type": "code",
   "execution_count": null,
   "id": "40a1a0c4",
   "metadata": {},
   "outputs": [],
   "source": [
    "##### 데이터 타이틀 불일치 부분 update #####\n",
    "'''\n",
    "update score_table set title = 'Hit & Run' where title ='Hit  Run';\n",
    "update score_table set title = 'Pablo Escobar, The Drug Lord' where title ='Pablo Escobar The Drug Lord';\n",
    "update score_table set title = 'Locke & Key' where title ='Locke  Key';\n",
    "update score_table set title = 'Love, Death & Robots' where title ='Love Death  Robots';\n",
    "update score_table set title = 'Miraculous: Tales of Ladybug & Cat Noir' where title ='Miraculous: Tales of Ladybug  Cat Noir';\n",
    "update score_table set title = 'Acero, Woman of Steel' where title ='Acero Woman of Steel';\n",
    "update score_table set title = 'Ginny & Georgia' where title ='Ginny  Georgia';\n",
    "\n",
    "update score_table set title = 'Tiger King: Murder, Mayhem and Madness' where title ='Tiger King: Murder Mayhem and Madness';\n",
    "update score_table set title = 'Dash & Lily' where title ='Dash  Lily';\n",
    "update score_table set title = 'Grizzy & the Lemmings' where title ='Grizzy  the Lemmings';\n",
    "'''"
   ]
  },
  {
   "cell_type": "markdown",
   "id": "2d6deaa5",
   "metadata": {},
   "source": [
    "# Maria DB 의 데이터를 csv로 출력 "
   ]
  },
  {
   "cell_type": "code",
   "execution_count": 3,
   "id": "b3849100",
   "metadata": {},
   "outputs": [],
   "source": [
    "######DB내  table들 csv출력#####\n",
    "Maria_db = pymysql.connect(\n",
    "    user='root', \n",
    "    passwd='1234', \n",
    "    host='127.0.0.1', \n",
    "    db='project', \n",
    "    charset='utf8'\n",
    ")\n",
    "cursor = Maria_db.cursor(pymysql.cursors.DictCursor)\n",
    "\n",
    "cursor.execute(\"select * from score_table\")\n",
    "table_rows = cursor.fetchall()\n",
    "df = pd.DataFrame(table_rows)\n",
    "df.to_csv(\"score_table.csv\")\n",
    "\n",
    "cursor.execute(\"select * from detail_table\")\n",
    "table_rows = cursor.fetchall()\n",
    "df = pd.DataFrame(table_rows)\n",
    "df.to_csv(\"detail_table.csv\")\n",
    "\n",
    "Maria_db.commit()\n",
    "Maria_db.close()\n"
   ]
  },
  {
   "cell_type": "code",
   "execution_count": null,
   "id": "ccb056c9",
   "metadata": {},
   "outputs": [],
   "source": []
  }
 ],
 "metadata": {
  "kernelspec": {
   "display_name": "Python 3 (ipykernel)",
   "language": "python",
   "name": "python3"
  },
  "language_info": {
   "codemirror_mode": {
    "name": "ipython",
    "version": 3
   },
   "file_extension": ".py",
   "mimetype": "text/x-python",
   "name": "python",
   "nbconvert_exporter": "python",
   "pygments_lexer": "ipython3",
   "version": "3.9.7"
  }
 },
 "nbformat": 4,
 "nbformat_minor": 5
}
